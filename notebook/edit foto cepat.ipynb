{
 "cells": [
  {
   "cell_type": "code",
   "execution_count": 17,
   "id": "c3bd7793",
   "metadata": {},
   "outputs": [
    {
     "name": "stdout",
     "output_type": "stream",
     "text": [
      "Pembaruan nama file selesai.\n"
     ]
    }
   ],
   "source": [
    "import os\n",
    "\n",
    "# Tentukan direktori tempat gambar-gambar Anda disimpan\n",
    "direktori = \"data2tangan/1\"\n",
    "\n",
    "# Periksa apakah direktori ada\n",
    "if not os.path.exists(direktori):\n",
    "    print(\"Direktori tidak ditemukan\")\n",
    "    exit()\n",
    "\n",
    "# Ambil daftar nama file dalam direktori\n",
    "daftar_file = os.listdir(direktori)\n",
    "\n",
    "# Sortir daftar file secara alfanumerik\n",
    "daftar_file.sort()\n",
    "\n",
    "# Inisialisasi variabel penghitung\n",
    "penghitung = 100\n",
    "\n",
    "# Loop melalui setiap file\n",
    "for nama_file in daftar_file:\n",
    "    # Dapatkan ekstensi file\n",
    "    ekstensi = os.path.splitext(nama_file)[1]\n",
    "\n",
    "    # Buat nama file baru dengan format \"gambar_NNN.ekstensi\"\n",
    "    nama_file_baru = f\"{penghitung:01d}{ekstensi}\"\n",
    "\n",
    "    # Ubah nama file menggunakan fungsi os.rename()\n",
    "    os.rename(os.path.join(direktori, nama_file), os.path.join(direktori, nama_file_baru))\n",
    "\n",
    "    # Tambahkan 1 ke penghitung\n",
    "    penghitung += 1\n",
    "\n",
    "print(\"Pembaruan nama file selesai.\")\n"
   ]
  },
  {
   "cell_type": "code",
   "execution_count": 19,
   "id": "e8e9fe2a",
   "metadata": {},
   "outputs": [
    {
     "name": "stdout",
     "output_type": "stream",
     "text": [
      "Perubahan ekstensi file selesai.\n"
     ]
    }
   ],
   "source": [
    "import os\n",
    "\n",
    "# Tentukan direktori tempat file-file Anda disimpan\n",
    "direktori = \"data1tangan/0\"\n",
    "\n",
    "# Periksa apakah direktori ada\n",
    "if not os.path.exists(direktori):\n",
    "    print(\"Direktori tidak ditemukan\")\n",
    "    exit()\n",
    "\n",
    "# Loop melalui setiap file dalam direktori\n",
    "for nama_file in os.listdir(direktori):\n",
    "    # Dapatkan jalur lengkap file\n",
    "    jalur_file = os.path.join(direktori, nama_file)\n",
    "\n",
    "    # Periksa apakah file adalah file regular\n",
    "    if os.path.isfile(jalur_file):\n",
    "        # Dapatkan ekstensi file saat ini\n",
    "        ekstensi_lama = os.path.splitext(nama_file)[1]\n",
    "\n",
    "        # Periksa apakah ekstensi saat ini bukan .jpg\n",
    "        if ekstensi_lama.lower() != \".JPG\":\n",
    "            # Buat nama file baru dengan ekstensi .jpg\n",
    "            nama_file_baru = os.path.splitext(nama_file)[0] + \".JPG\"\n",
    "\n",
    "            # Ubah nama file menggunakan fungsi os.rename()\n",
    "            os.rename(jalur_file, os.path.join(direktori, nama_file_baru))\n",
    "\n",
    "print(\"Perubahan ekstensi file selesai.\")\n"
   ]
  }
 ],
 "metadata": {
  "kernelspec": {
   "display_name": "Python 3 (ipykernel)",
   "language": "python",
   "name": "python3"
  },
  "language_info": {
   "codemirror_mode": {
    "name": "ipython",
    "version": 3
   },
   "file_extension": ".py",
   "mimetype": "text/x-python",
   "name": "python",
   "nbconvert_exporter": "python",
   "pygments_lexer": "ipython3",
   "version": "3.10.9"
  }
 },
 "nbformat": 4,
 "nbformat_minor": 5
}
